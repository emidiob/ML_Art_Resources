{
  "nbformat": 4,
  "nbformat_minor": 0,
  "metadata": {
    "colab": {
      "name": "PngsToVideo_FFMPEG.ipynb",
      "provenance": [],
      "collapsed_sections": [
        "p8rKx3B4wvfi"
      ],
      "authorship_tag": "ABX9TyMFnZxeWWKkql9KzAUZ2po4",
      "include_colab_link": true
    },
    "kernelspec": {
      "name": "python3",
      "display_name": "Python 3"
    },
    "language_info": {
      "name": "python"
    }
  },
  "cells": [
    {
      "cell_type": "markdown",
      "metadata": {
        "id": "view-in-github",
        "colab_type": "text"
      },
      "source": [
        "<a href=\"https://colab.research.google.com/github/emidiob/ML_Art_Resources/blob/main/PngsToVideo_FFMPEG.ipynb\" target=\"_parent\"><img src=\"https://colab.research.google.com/assets/colab-badge.svg\" alt=\"Open In Colab\"/></a>"
      ]
    },
    {
      "cell_type": "markdown",
      "source": [
        "**If you find these notebooks helpful, support by following me on [Instagram](https://www.instagram.com/emidiobattipaglia/) and [Twitter](https://twitter.com/Emidio_B)**"
      ],
      "metadata": {
        "id": "vc6w3Hau2RY1"
      }
    },
    {
      "cell_type": "markdown",
      "metadata": {
        "id": "p8rKx3B4wvfi"
      },
      "source": [
        "# ⭕  Image sequence into H.264 / MPEG-4 AVC"
      ]
    },
    {
      "cell_type": "markdown",
      "source": [
        "Transcode an image sequence by using the H.264 codec for dissemination purposes.\n",
        "\n",
        "Solution\n",
        "ffmpeg \\\n",
        "\n",
        "    -f image2 \\\n",
        "    -framerate 24 \\ oppure r\n",
        "    -i input_file_%06d.ext \\\n",
        "    -c:v libx264 \\\n",
        "    -preset veryslow \\\n",
        "    -crf 18 \\\n",
        "    -pix_fmt yuv420p \\\n",
        "    output_file\n",
        "\n",
        "GENERAL COMMAND\n",
        "ffmpeg \\\n",
        "\n",
        "    -f image2 \\\n",
        "    -framerate frames_per_second \\\n",
        "    -i input_file_regex.ext \\\n",
        "    -c:v libx264 \\\n",
        "    -preset preset_value \\\n",
        "    -crf constant_rate_factor \\\n",
        "    -pix_fmt yuv420p \\\n",
        "    output_file\n",
        "\n",
        "COMMAND SYNTAX\n",
        "\n",
        "ffmpeg\n",
        "starts the command\n",
        "-f image2\n",
        "forces the image file de-muxer for single image files\n",
        "-framerate frames_per_second\n",
        "sets the frame rate\n",
        "-i input_file_regex.ext\n",
        "path, name with regex and extension of the input files\n",
        "-c:v libx264\n",
        "The library libx264 re-encodes the video stream using the H.264 video codec.\n",
        "-preset preset_value\n",
        "A slower encoding preset means a better compression rate.\n",
        "-crf constant_rate_factor\n",
        "A parameter of 18 means a “visually lossless” compression.\n",
        "-pix_fmt yuv420p\n",
        "The pixel format for “YUV” colour space with 4:2:0 chroma subsampling and planar colour alignment is chosen for best compatibility.\n",
        "output_file\n",
        "path, name and extension of the output file\n",
        "\n",
        "\n",
        "Discussion\n",
        "The parameters witch apply to the input files must precede them. Therefore the option -f image2 must precede the image sequence given as input.\n",
        "\n",
        "The frame rate of sound film is 24 fps (frames per second) and the default frame rate of image2 is 25 fps, therefore we have to change it.\n",
        "\n",
        "The regex %06d matches six digits long numbers, possibly with leading zeroes. This allows to read in ascending order, one image after the other, the full sequence inside one folder. The command must of course match the naming convention actually used. And for image sequences starting at 086400 (captured at 24 fps with a timecode starting at 01:00:00:00) or at 090000 (captured at 25 fps with a timecode starting at 01:00:00:00), add the flag -start_number 86400 or -start_number 90000 before -i input_file_%06d.ext.\n",
        "\n",
        "The extension for TIFF files is .tif or maybe .tiff; the extension for DPX files is .dpx (or eventually .cin for old Cineon files). Other file formats are possible.\n",
        "\n",
        "The video codec is specified by -codec:video, which is usually abbreviated as -c:v (-codec:v or -c:video are also possible). We advise to avoid the alias -vcodec. If the source is RGB, then you may choose the video codec libx264rgb rather than libx264.\n",
        "\n",
        "Possible -preset values for the H.264 codec include veryslow, slow, medium, fast and veryfast. Slower encoding means that more time is needed, but the compression rate is better.\n",
        "\n",
        "You can use the parameter -qp 18 (quantisation parameter) rather than -crf 18 (constant rate factor) which gives a similar “visually lossless” result. The range of the scale for crf and qp for 8-bit is from 0 to 51, where 0 is lossless, approximately 18 is “visually lossless”, 23 is the default value and 51 is worst possible. For 10-bit the range is from 0 to 63. Note that most of the non-FFmpeg-based players cannot decode H.264 files holding lossless content.\n",
        "\n",
        "yuv420p is a common 8-bit and yuv420p10le a 10-bit pixel format. The library libx264 supports both, but you cannot combine 8-bit and 10-bit in the same command, you need two commands.\n",
        "\n",
        "By default the library libx264 will use the chroma subsampling scheme that matches closest the input file’s chroma subsampling. This can result in the “YUV” colour space with 4:4:4 or 4:2:2 or 4:2:0 chroma subsampling. Many of the non-FFmpeg-based players cannot decode H.264 files having a different chroma subsampling than 4:2:0. Therefore, in order to allow possibly all players to read the file, we suggest use to the yuv420p pixel format for dissemination purposes. And, as sadly usual in the computer world, “YUV” stands for the colour space Y′CBCR and not for Y′UV, which is used for PAL video. However, if you choose the video codec libx264rgb rather than libx264, then an RGB pixel format must be chosen, usually rgb24.\n",
        "\n",
        "You may add the parameter -movflags +faststart allowing to start playing before the whole file is loaded.\n",
        "\n",
        "Often the MP4 container (.mp4) is choses for wrapping H.264, but others are possible.\n",
        "\n",
        " \n",
        "\n",
        "A Bash script allowing to perform this transcoding is included in our collection Bash Script for Audiovisual Preservation."
      ],
      "metadata": {
        "id": "XyVOD3dC_hr_"
      }
    },
    {
      "cell_type": "markdown",
      "metadata": {
        "id": "ApYlqYr-zRo8"
      },
      "source": [
        "# ⭕ Mount Google Drive"
      ]
    },
    {
      "cell_type": "code",
      "execution_count": null,
      "metadata": {
        "colab": {
          "base_uri": "https://localhost:8080/"
        },
        "id": "i0VymBzFzTj9",
        "outputId": "b8154c68-3675-412a-9b0a-b31346bb2a25"
      },
      "outputs": [
        {
          "output_type": "stream",
          "name": "stdout",
          "text": [
            "Mounted at /content/drive\n"
          ]
        }
      ],
      "source": [
        "from google.colab import drive\n",
        "drive.mount('/content/drive')"
      ]
    },
    {
      "cell_type": "markdown",
      "metadata": {
        "id": "EWBOZVH_T2lW"
      },
      "source": [
        "#⭕ Move the archive in the main directory and unzip\n"
      ]
    },
    {
      "cell_type": "code",
      "execution_count": null,
      "metadata": {
        "id": "6pxEHIVKXT-M"
      },
      "outputs": [],
      "source": [
        "!cp /content/drive/MyDrive/midas/export.zip /content/\n",
        "\n",
        "!pip install patool\n",
        "import patoolib\n",
        "patoolib.extract_archive(\"/content/export.zip\",outdir='/content/')\n",
        "\n",
        "!rm /content/export.zip"
      ]
    },
    {
      "cell_type": "code",
      "source": [
        "!apt install ffmpeg"
      ],
      "metadata": {
        "id": "JS_GjsRJS2Du"
      },
      "execution_count": null,
      "outputs": []
    },
    {
      "cell_type": "code",
      "source": [
        "cd /content/content/outputs_midas"
      ],
      "metadata": {
        "id": "ISt7Yo1HUDId"
      },
      "execution_count": null,
      "outputs": []
    },
    {
      "cell_type": "code",
      "source": [
        "!ffmpeg -r 25 -f image2 -s 960x540 -i Sequence01_%05d.png -codec:video libx264rgb -crf 15 -preset fast -pix_fmt rgb24 ../midas01.mp4\n",
        "\n",
        "!cp /content/content/midas01.mp4 /content/drive/MyDrive/midas/\n",
        "\n",
        "print (\"Copied in Drive\")"
      ],
      "metadata": {
        "id": "MPKcwAGa69zE"
      },
      "execution_count": null,
      "outputs": []
    }
  ]
}