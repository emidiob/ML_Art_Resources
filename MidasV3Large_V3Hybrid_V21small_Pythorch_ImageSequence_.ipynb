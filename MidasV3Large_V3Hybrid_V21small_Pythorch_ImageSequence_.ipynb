{
  "nbformat": 4,
  "nbformat_minor": 5,
  "metadata": {
    "colab": {
      "name": "MidasV3Large_V3Hybrid_V21small_Pythorch_ImageSequence..ipynb",
      "provenance": [],
      "collapsed_sections": [
        "3VW74rvzS_p9",
        "ApYlqYr-zRo8"
      ],
      "machine_shape": "hm",
      "include_colab_link": true
    },
    "language_info": {
      "name": "python"
    },
    "kernelspec": {
      "name": "python3",
      "display_name": "Python 3"
    },
    "accelerator": "GPU"
  },
  "cells": [
    {
      "cell_type": "markdown",
      "metadata": {
        "id": "view-in-github",
        "colab_type": "text"
      },
      "source": [
        "<a href=\"https://colab.research.google.com/github/emidiob/ML_Art_Resources/blob/main/MidasV3Large_V3Hybrid_V21small_Pythorch_ImageSequence_.ipynb\" target=\"_parent\"><img src=\"https://colab.research.google.com/assets/colab-badge.svg\" alt=\"Open In Colab\"/></a>"
      ]
    },
    {
      "cell_type": "markdown",
      "source": [
        "**If you find this notebooks helpful, follow me on [Instagram](https://www.instagram.com/emidiobattipaglia/) and [Twitter](https://twitter.com/Emidio_B)**"
      ],
      "metadata": {
        "id": "tm_WWQ92463H"
      },
      "id": "tm_WWQ92463H"
    },
    {
      "cell_type": "markdown",
      "metadata": {
        "id": "3VW74rvzS_p9"
      },
      "source": [
        "# ⭕ Check Hardware"
      ],
      "id": "3VW74rvzS_p9"
    },
    {
      "cell_type": "code",
      "metadata": {
        "id": "2GbWHmLgS1ZD"
      },
      "source": [
        "print('CPU:') \n",
        "!lscpu |grep 'Model name'\n",
        "print('GPU:') \n",
        "!nvidia-smi -q\n",
        "!nvidia-smi\n",
        "print('Memory:') \n",
        "!free -h --si | awk  '/Mem:/{print $2}'\n",
        "print('Memory Info:') \n",
        "!cat /proc/meminfo"
      ],
      "id": "2GbWHmLgS1ZD",
      "execution_count": null,
      "outputs": []
    },
    {
      "cell_type": "markdown",
      "source": [
        ""
      ],
      "metadata": {
        "id": "LLTfPUWL46lR"
      },
      "id": "LLTfPUWL46lR"
    },
    {
      "cell_type": "markdown",
      "metadata": {
        "id": "ApYlqYr-zRo8"
      },
      "source": [
        "# ⭕ Monta Google Drive"
      ],
      "id": "ApYlqYr-zRo8"
    },
    {
      "cell_type": "code",
      "metadata": {
        "id": "i0VymBzFzTj9"
      },
      "source": [
        "from google.colab import drive\n",
        "drive.mount('/content/drive')"
      ],
      "id": "i0VymBzFzTj9",
      "execution_count": null,
      "outputs": []
    },
    {
      "cell_type": "markdown",
      "metadata": {
        "id": "EWBOZVH_T2lW"
      },
      "source": [
        "#⭕ Sposta archivio nella directory principale e Unzippa i files\n"
      ],
      "id": "EWBOZVH_T2lW"
    },
    {
      "cell_type": "code",
      "metadata": {
        "id": "6pxEHIVKXT-M"
      },
      "source": [
        "!cp /content/drive/MyDrive/midas/input.zip /content/\n",
        "\n",
        "!pip install patool\n",
        "import patoolib\n",
        "patoolib.extract_archive(\"/content/input.zip\",outdir=\"/content/\")\n",
        "\n",
        "!rm /content/input.zip\n",
        "\n"
      ],
      "id": "6pxEHIVKXT-M",
      "execution_count": null,
      "outputs": []
    },
    {
      "cell_type": "markdown",
      "metadata": {
        "id": "suited-artist"
      },
      "source": [
        "# Code\n",
        "\n",
        "Download an image from the PyTorch homepage\n",
        "Load a model (see https://github.com/intel-isl/MiDaS/#Accuracy for an overview)"
      ],
      "id": "suited-artist"
    },
    {
      "cell_type": "code",
      "metadata": {
        "attributes": {
          "classes": [
            "shell"
          ],
          "id": ""
        },
        "id": "interim-object"
      },
      "source": [
        "!pip install timm"
      ],
      "id": "interim-object",
      "execution_count": null,
      "outputs": []
    },
    {
      "cell_type": "code",
      "metadata": {
        "id": "medium-telescope"
      },
      "source": [
        "import cv2\n",
        "import torch\n",
        "import urllib.request\n",
        "\n",
        "import matplotlib.pyplot as plt\n",
        "\n",
        "import os\n",
        "\n",
        "path = \"/content/export\"\n",
        "\n",
        "try:\n",
        "    os.mkdir(path)\n",
        "except OSError:\n",
        "    print (\"Creation of the directory %s failed\" % path)\n",
        "else:\n",
        "    print (\"Successfully created the directory %s \" % path)\n",
        "\n",
        "#model_type = \"DPT_Large\"     # MiDaS v3 - Large     (highest accuracy, slowest inference speed)\n",
        "#model_type = \"DPT_Hybrid\"   # MiDaS v3 - Hybrid    (medium accuracy, medium inference speed)\n",
        "model_type = \"MiDaS_small\"  # MiDaS v2.1 - Small   (lowest accuracy, highest inference speed)\n",
        "\n",
        "midas = torch.hub.load(\"intel-isl/MiDaS\", model_type)\n",
        "\n",
        "#Move to GPU\n",
        "device = torch.device(\"cuda\") if torch.cuda.is_available() else torch.device(\"cpu\")\n",
        "midas.to(device)\n",
        "midas.eval()\n",
        "\n",
        "#Load Transforms and resize to normalize the image for large or small models\n",
        "midas_transforms = torch.hub.load(\"intel-isl/MiDaS\", \"transforms\")\n",
        "\n",
        "if model_type == \"DPT_Large\" or model_type == \"DPT_Hybrid\":\n",
        "    transform = midas_transforms.dpt_transform\n",
        "else:\n",
        "    transform = midas_transforms.small_transform"
      ],
      "id": "medium-telescope",
      "execution_count": null,
      "outputs": []
    },
    {
      "cell_type": "markdown",
      "metadata": {
        "id": "crude-topic"
      },
      "source": [
        "Load image and apply transforms"
      ],
      "id": "crude-topic"
    },
    {
      "cell_type": "code",
      "metadata": {
        "id": "interim-primary"
      },
      "source": [
        "directory = r'/content/input'\n",
        "for entry in os.scandir(directory):\n",
        "    if (entry.path.endswith(\".jpg\")\n",
        "            or entry.path.endswith(\".png\")\n",
        "                    or entry.path.endswith(\".jpeg\")) and entry.is_file():\n",
        "        \n",
        "        print(\"Reading image\", entry.name)\n",
        "        \n",
        "        img = cv2.imread(entry.path)\n",
        "        img = cv2.cvtColor(img, cv2.COLOR_BGR2RGB)\n",
        "\n",
        "        input_batch = transform(img).to(device)\n",
        "\n",
        "        with torch.no_grad():\n",
        "            prediction = midas(input_batch)\n",
        "\n",
        "            prediction = torch.nn.functional.interpolate(\n",
        "                prediction.unsqueeze(1),\n",
        "                size=img.shape[:2],\n",
        "                mode=\"bicubic\",\n",
        "                align_corners=False,\n",
        "            ).squeeze()\n",
        "\n",
        "\n",
        "        output = prediction.cpu().numpy()\n",
        "        print(\"Writing image\", entry.name)\n",
        "\n",
        "        cv2.imwrite(f'/content/export/{entry.name}',output)\n",
        "\n",
        "!zip -r /content/export.zip /content/export\n",
        "print(\"Folder Zipped\")\n",
        "\n",
        "!cp /content/export.zip /content/drive/MyDrive/midas/\n",
        "print(\"Folder Copied to destination\")"
      ],
      "id": "interim-primary",
      "execution_count": null,
      "outputs": []
    }
  ]
}